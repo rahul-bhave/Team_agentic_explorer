{
 "cells": [
  {
   "cell_type": "code",
   "execution_count": 23,
   "id": "9639d427-a127-49a2-a521-4b00acbedb10",
   "metadata": {},
   "outputs": [
    {
     "name": "stdout",
     "output_type": "stream",
     "text": [
      "content='Hello there! How can I assist you today?' additional_kwargs={} response_metadata={'token_usage': {'completion_tokens': 11, 'prompt_tokens': 60, 'total_tokens': 71}, 'model_name': 'ibm/granite-3-8b-instruct', 'system_fingerprint': '', 'finish_reason': 'stop'} id='chatcmpl-7262bed6229c67c5aa0d29de79aca231' usage_metadata={'input_tokens': 60, 'output_tokens': 11, 'total_tokens': 71}\n"
     ]
    }
   ],
   "source": [
    "from ibm_watsonx_ai import APIClient  # Importing IBM Watsonx libraries\n",
    "from ibm_watsonx_ai import Credentials\n",
    "from ibm_watsonx_ai.foundation_models import ModelInference\n",
    "import os, getpass\n",
    "from langchain_ibm import ChatWatsonx\n",
    "import config as conf  # Importing configuration file with API credentials\n",
    "\n",
    "# model_id = \"ibm/granite-3-8b-instruct\"  # Example model ID (commented out for configurable approach)\n",
    "model_id = conf.model_id\n",
    "project_id = conf.project_id\n",
    "api_key = conf.api_key\n",
    "service_url = conf.service_url\n",
    "space_id = None  # Optional parameter for specifying a workspace\n",
    "verify = False  # Disabling SSL verification (consider enabling in production for security)\n",
    "\n",
    "prompt = \"hello\"  # Placeholder prompt for testing API response\n",
    "\n",
    "# Initialize ChatWatsonx with configured parameters\n",
    "llm = ChatWatsonx(model_id=model_id, project_id=project_id, url=service_url, apikey=api_key)\n",
    "\n",
    "# Invoke the model with the test prompt and print the result\n",
    "result = llm.invoke(prompt)\n",
    "print(result)  # Consider using logging instead of print for better debugging in production\n"
   ]
  },
  {
   "cell_type": "code",
   "execution_count": 24,
   "id": "e421d167-e90b-44fc-8d26-64c003c319ac",
   "metadata": {},
   "outputs": [],
   "source": [
    "from typing import List\n",
    "from typing_extensions import TypedDict\n",
    "from pydantic import BaseModel, Field\n",
    "\n",
    "class Analyst(BaseModel):\n",
    "    \"\"\"\n",
    "    Represents an AI-generated analyst persona with structured attributes.\n",
    "\n",
    "    Attributes:\n",
    "        affiliation (str): The primary organization or sector the analyst is associated with.\n",
    "        name (str): The name of the analyst persona.\n",
    "        role (str): The specific role or expertise the analyst holds in the given research context.\n",
    "        description (str): A detailed explanation of the analyst’s focus, concerns, and objectives.\n",
    "\n",
    "    Methods:\n",
    "        persona (property): Returns a formatted string representation of the analyst’s details.\n",
    "    \"\"\"\n",
    "\n",
    "    affiliation: str = Field(\n",
    "        description=\"Primary affiliation or sector the analyst represents.\"\n",
    "    )\n",
    "    name: str = Field(\n",
    "        description=\"Name of the analyst persona.\"\n",
    "    )\n",
    "    role: str = Field(\n",
    "        description=\"The analyst’s role or expertise area in the research context.\"\n",
    "    )\n",
    "    description: str = Field(\n",
    "        description=\"A brief summary of the analyst’s focus and key concerns.\"\n",
    "    )\n",
    "\n",
    "    @property\n",
    "    def persona(self) -> str:\n",
    "        \"\"\"\n",
    "        Returns a formatted string representation of the analyst's details.\n",
    "        \"\"\"\n",
    "        return f\"Name: {self.name}\\nRole: {self.role}\\nAffiliation: {self.affiliation}\\nDescription: {self.description}\\n\"\n",
    "\n",
    "\n",
    "class Perspectives(BaseModel):\n",
    "    \"\"\"\n",
    "    Represents a structured collection of analyst personas.\n",
    "\n",
    "    Attributes:\n",
    "        analysts (List[Analyst]): A list containing detailed analyst personas, \n",
    "        including their roles, affiliations, and expertise.\n",
    "    \"\"\"\n",
    "    analysts: List[Analyst] = Field(\n",
    "        description=\"Detailed list of analysts with their roles and affiliations.\"\n",
    "    )\n",
    "\n",
    "class GenerateAnalystsState(TypedDict):\n",
    "    \"\"\"\n",
    "    Defines the state structure for generating AI analyst personas.\n",
    "\n",
    "    Attributes:\n",
    "        topic (str): The research topic for which analysts are generated.\n",
    "        max_analysts (int): The maximum number of analyst personas to generate.\n",
    "        human_analyst_feedback (str): Optional feedback from users to refine the generated personas.\n",
    "        analysts (List[Analyst]): The list of AI-generated analyst personas.\n",
    "    \"\"\"\n",
    "    topic: str  # Research topic for which analysts are being created\n",
    "    max_analysts: int  # Maximum number of analysts to generate\n",
    "    human_analyst_feedback: str  # Feedback provided by users for refining personas\n",
    "    analysts: List[Analyst]  # List of generated analyst personas\n"
   ]
  },
  {
   "cell_type": "code",
   "execution_count": 25,
   "id": "ec417645-0b25-4d1e-8d2e-4445080811c6",
   "metadata": {},
   "outputs": [],
   "source": [
    "from IPython.display import Image, display\n",
    "from langgraph.graph import START, END, StateGraph\n",
    "from langgraph.checkpoint.memory import MemorySaver\n",
    "from langchain_core.messages import AIMessage, HumanMessage, SystemMessage\n",
    "\n",
    "analyst_instructions=\"\"\"As an expert AI Policy & Governance Specialist or AI Ethnographer, you are tasked with creating a set of AI analyst personas. Follow these instructions carefully:\n",
    "\n",
    "1. First, review the research topic from AI Governance or planning perspective:\n",
    "{topic}\n",
    "        \n",
    "2. Examine any superior feedback that has been optionally provided to guide creation of the analysts: \n",
    "        \n",
    "{human_analyst_feedback}\n",
    "    \n",
    "3. Determine the most interesting themes/topics based feedback above.\n",
    "                    \n",
    "4. Pick the top {max_analysts} themes.\n",
    "\n",
    "5. Assign one analyst to each theme.\"\"\""
   ]
  },
  {
   "cell_type": "code",
   "execution_count": 26,
   "id": "3cdca254-c5fd-45bb-a5a1-7e8c3f8cbb83",
   "metadata": {},
   "outputs": [],
   "source": [
    "def create_analysts(state: GenerateAnalystsState):\n",
    "    \"\"\"\n",
    "    Generates AI analyst personas based on a given research topic and optional human feedback.\n",
    "\n",
    "    Steps:\n",
    "    1. Extracts the topic, maximum number of analysts, and any user-provided feedback from the state.\n",
    "    2. Utilizes IBM watsonx.ai with structured output enforcement to ensure well-defined persona generation.\n",
    "    3. Constructs a system message guiding the AI on how to create relevant analyst personas.\n",
    "    4. Invokes the AI model to generate a structured list of analysts based on the topic and instructions.\n",
    "    5. Returns the generated analyst personas as part of the updated state.\n",
    "\n",
    "    Args:\n",
    "        state (GenerateAnalystsState): The current state containing topic details, max analysts, and feedback.\n",
    "\n",
    "    Returns:\n",
    "        dict: A dictionary containing the list of generated analyst personas.\n",
    "    \"\"\"\n",
    "\n",
    "    topic = state['topic']\n",
    "    max_analysts = state['max_analysts']\n",
    "    human_analyst_feedback = state.get('human_analyst_feedback', '')\n",
    "\n",
    "    # Enforce structured output format for analyst personas\n",
    "    structured_llm = llm.with_structured_output(Perspectives)\n",
    "\n",
    "    # Construct system message with topic, feedback, and max analysts\n",
    "    system_message = analyst_instructions.format(\n",
    "        topic=topic,\n",
    "        human_analyst_feedback=human_analyst_feedback,\n",
    "        max_analysts=max_analysts\n",
    "    )\n",
    "\n",
    "    # Generate analyst personas using AI\n",
    "    analysts = structured_llm.invoke([\n",
    "        SystemMessage(content=system_message),\n",
    "        HumanMessage(content=\"Generate the set of analysts.\")\n",
    "    ])\n",
    "\n",
    "    # Return the generated analyst personas as part of the updated state\n",
    "    return {\"analysts\": analysts.analysts}\n"
   ]
  },
  {
   "cell_type": "code",
   "execution_count": 27,
   "id": "792b294e-fdf2-4ee5-b86f-e24ef0cbe1e8",
   "metadata": {},
   "outputs": [],
   "source": [
    "def human_feedback(state: GenerateAnalystsState):\n",
    "    \"\"\" \n",
    "    Placeholder function representing a human feedback node in the workflow. \n",
    "    This function is intentionally left empty as it serves as an interruption \n",
    "    point where user feedback is collected before resuming persona generation.\n",
    "    \"\"\"\n",
    "    pass\n"
   ]
  },
  {
   "cell_type": "code",
   "execution_count": 28,
   "id": "26797b2c-488c-4922-b961-f00bc53b3f59",
   "metadata": {},
   "outputs": [],
   "source": [
    "def should_continue(state: GenerateAnalystsState):\n",
    "    \"\"\" Return the next node to execute \"\"\"\n",
    "\n",
    "    # Check if human feedback\n",
    "    human_analyst_feedback=state.get('human_analyst_feedback', None)\n",
    "    if human_analyst_feedback:\n",
    "        return \"create_analysts\"\n",
    "    \n",
    "    # Otherwise end\n",
    "    return END"
   ]
  },
  {
   "cell_type": "code",
   "execution_count": 29,
   "id": "32182638-e998-4718-ab50-2fd69d52a618",
   "metadata": {},
   "outputs": [
    {
     "data": {
      "image/png": "[encoded data removed]",
      "text/plain": [
       "<IPython.core.display.Image object>"
      ]
     },
     "metadata": {},
     "output_type": "display_data"
    }
   ],
   "source": [
    "# Initialize the state graph with the defined GenerateAnalystsState structure\n",
    "builder = StateGraph(GenerateAnalystsState)\n",
    "\n",
    "# Add a node to generate AI analyst personas\n",
    "builder.add_node(\"create_analysts\", create_analysts)\n",
    "\n",
    "# Add a node to allow human feedback for refining the generated personas\n",
    "builder.add_node(\"human_feedback\", human_feedback)\n",
    "\n",
    "# Define the workflow: Start by creating analysts, then proceed to human feedback\n",
    "builder.add_edge(START, \"create_analysts\")\n",
    "\n",
    "# After generating analysts, move to the human feedback stage\n",
    "builder.add_edge(\"create_analysts\", \"human_feedback\")\n",
    "\n",
    "# Based on feedback, either regenerate analysts or conclude the process\n",
    "builder.add_conditional_edges(\"human_feedback\", should_continue, [\"create_analysts\", END])\n",
    "\n",
    "# Compile the state graph with a memory checkpoint for tracking progress\n",
    "memory = MemorySaver()\n",
    "graph = builder.compile(interrupt_before=['human_feedback'], checkpointer=memory)\n",
    "\n",
    "# Generate and display a visualization of the workflow for better understanding\n",
    "display(Image(graph.get_graph(xray=1).draw_mermaid_png()))\n"
   ]
  },
  {
   "cell_type": "code",
   "execution_count": 30,
   "id": "f440ad33-25c9-4e61-b9ec-b25f0fd3ee41",
   "metadata": {},
   "outputs": [],
   "source": [
    "# Define the maximum number of AI analyst personas to generate\n",
    "max_analysts = 3  \n",
    "\n",
    "# Specify the research topic for which AI-generated analyst personas will be created\n",
    "topic = \"The benefits of adopting data trust and governance framework and its advantages in Generative AI\"\n",
    "\n",
    "# Initialize a thread configuration to track execution and responses\n",
    "thread = {\"configurable\": {\"thread_id\": \"1\"}}"
   ]
  },
  {
   "cell_type": "code",
   "execution_count": 31,
   "id": "b5501905-160e-4c1b-a88d-ea01e5d7843d",
   "metadata": {},
   "outputs": [
    {
     "name": "stdout",
     "output_type": "stream",
     "text": [
      "Name: Dr. Emily Stanton\n",
      "Affiliation: Technology Law & Policy Center\n",
      "Role: Data Trust Governance Specialist\n",
      "Description: The Data Trust Governance Explorer is a seasoned lawyer and policy specialist who has dedicated her career to navigating the legal complexities surrounding data trusts and governance frameworks. Her expertise lies in identifying potential regulatory and ethical challenges and proposing tailored solutions that ensure data trusts can thrive while respecting user rights and legal standards. Her research will focus on how data trusts can effectively govern Generative AI technologies without compromising on data privacy, security, and ethics.\n",
      "-----\n",
      "Name: Dr. Alex Deveraux\n",
      "Affiliation: AI Ethics Institute\n",
      "Role: AI Ethnographer\n",
      "Description: AI Ethnographer Dr. Alex Deveraux specializes in understanding and analyzing the societal, cultural, and ethical implications of Generative AI. As an expert in AI ethnology, he explores the ways in which these technologies shape and are shaped by human values, norms, and behaviors. In the context of data trusts, his research will delve into how to ensure such frameworks naturally incorporate and reflect the ethical considerations that are crucial for Generative AI. His work aims to lay the groundwork for societies to harness the power of Generative AI responsibly.\n",
      "-----\n",
      "Name: Dr. Sophia Mendez\n",
      "Affiliation: Center for Responsible AI Research\n",
      "Role: AI Governance Analyst\n",
      "Description: AI Governance Analyst Dr. Sophia Mendez is deeply involved in developing frameworks and guidelines for responsible AI in various sectors. Her focus is on the governance mechanisms required to maintain the integrity of AI systems while maximizing societal benefits. For the context of Generative AI within data trusts, she will analyze the compliance and oversight structures needed to prevent misuse, ensure transparency, and promote accountability. Her expertise contributes to the development of robust, adaptable governance models suitable for the emerging landscape of Generative AI.\n",
      "-----\n"
     ]
    }
   ],
   "source": [
    "# Execute the AI persona generation graph until the first interruption point\n",
    "for event in graph.stream({\"topic\": topic, \"max_analysts\": max_analysts}, thread, stream_mode=\"values\"):\n",
    "    \n",
    "    # Retrieve the generated analysts from the event output\n",
    "    analysts = event.get(\"analysts\", '')\n",
    "\n",
    "    # If analysts are generated, print their details\n",
    "    if analysts:\n",
    "        for analyst in analysts:\n",
    "            print(f\"Name: {analyst.name}\")\n",
    "            print(f\"Affiliation: {analyst.affiliation}\")\n",
    "            print(f\"Role: {analyst.role}\")\n",
    "            print(f\"Description: {analyst.description}\")\n",
    "            print(\"-\" * 5)  # Separator for readability "
   ]
  },
  {
   "cell_type": "code",
   "execution_count": 32,
   "id": "02fc07ce-eb7b-4446-83d2-552b581181b2",
   "metadata": {},
   "outputs": [],
   "source": [
    "state=graph.get_state(thread)"
   ]
  },
  {
   "cell_type": "code",
   "execution_count": 33,
   "id": "06dd208f-d08f-4e10-8f45-74f847098dc5",
   "metadata": {},
   "outputs": [
    {
     "data": {
      "text/plain": [
       "('human_feedback',)"
      ]
     },
     "execution_count": 33,
     "metadata": {},
     "output_type": "execute_result"
    }
   ],
   "source": [
    "state.next"
   ]
  },
  {
   "cell_type": "code",
   "execution_count": 34,
   "id": "de3d634d-14f3-4306-a06a-5ac693a01138",
   "metadata": {},
   "outputs": [
    {
     "data": {
      "text/plain": [
       "{'configurable': {'thread_id': '1',\n",
       "  'checkpoint_ns': '',\n",
       "  'checkpoint_id': '1f00c8d6-dc87-6e06-8002-3fb08d7e6e40'}}"
      ]
     },
     "execution_count": 34,
     "metadata": {},
     "output_type": "execute_result"
    }
   ],
   "source": [
    "# Simulating human feedback by updating the AI system's state \n",
    "# Here, we add a government as well as NGO representative's perspective to enhance diversity in personas\n",
    "graph.update_state(thread, {\"human_analyst_feedback\": \n",
    "                            \"Add in someone from a Government organization as well as NGO representative to add their perspective\"}, \n",
    "                   as_node=\"human_feedback\")"
   ]
  },
  {
   "cell_type": "code",
   "execution_count": 35,
   "id": "c9b58271-5e09-4462-bb1a-a4337ea94fb0",
   "metadata": {},
   "outputs": [
    {
     "name": "stdout",
     "output_type": "stream",
     "text": [
      "Name: Dr. Emily Stanton\n",
      "Affiliation: Technology Law & Policy Center\n",
      "Role: Data Trust Governance Specialist\n",
      "Description: The Data Trust Governance Explorer is a seasoned lawyer and policy specialist who has dedicated her career to navigating the legal complexities surrounding data trusts and governance frameworks. Her expertise lies in identifying potential regulatory and ethical challenges and proposing tailored solutions that ensure data trusts can thrive while respecting user rights and legal standards. Her research will focus on how data trusts can effectively govern Generative AI technologies without compromising on data privacy, security, and ethics.\n",
      "-----\n",
      "Name: Dr. Alex Deveraux\n",
      "Affiliation: AI Ethics Institute\n",
      "Role: AI Ethnographer\n",
      "Description: AI Ethnographer Dr. Alex Deveraux specializes in understanding and analyzing the societal, cultural, and ethical implications of Generative AI. As an expert in AI ethnology, he explores the ways in which these technologies shape and are shaped by human values, norms, and behaviors. In the context of data trusts, his research will delve into how to ensure such frameworks naturally incorporate and reflect the ethical considerations that are crucial for Generative AI. His work aims to lay the groundwork for societies to harness the power of Generative AI responsibly.\n",
      "-----\n",
      "Name: Dr. Sophia Mendez\n",
      "Affiliation: Center for Responsible AI Research\n",
      "Role: AI Governance Analyst\n",
      "Description: AI Governance Analyst Dr. Sophia Mendez is deeply involved in developing frameworks and guidelines for responsible AI in various sectors. Her focus is on the governance mechanisms required to maintain the integrity of AI systems while maximizing societal benefits. For the context of Generative AI within data trusts, she will analyze the compliance and oversight structures needed to prevent misuse, ensure transparency, and promote accountability. Her expertise contributes to the development of robust, adaptable governance models suitable for the emerging landscape of Generative AI.\n",
      "-----\n",
      "Name: Alex Thompson\n",
      "Affiliation: Tech Innovation Company\n",
      "Role: Generative AI Engineer\n",
      "Description: Focuses on leveraging data trust and governance frameworks to enhance Generative AI for business applications. Seek to optimize data utilization and reduce risk associated with AI models. Their objective is to demonstrate the value of adopting these frameworks in the corporate sector for improved AI performance and ethical practices.\n",
      "-----\n",
      "Name: Sophie Green\n",
      "Affiliation: Government Organization\n",
      "Role: Policy Analyst\n",
      "Description: Investigates policy implications and regulatory compliance of data trust and governance frameworks for Generative AI. Analyzes potential governmental constraints and incentives, ensuring alignment with public interests, national security, and citizens' rights. Their aim is to provide guidance for a regulatory environment that fosters responsible AI development and deployment.\n",
      "-----\n",
      "Name: Noah Avery\n",
      "Affiliation: Non-Governmental Organization (NGO)\n",
      "Role: Ethics and Human Rights Specialist\n",
      "Description: Assesses ethical concerns, societal impacts, and privacy implications of data trust and governance frameworks for Generative AI. Emphasizes the balance between innovation and ethical standards, ensuring AI technologies do not exacerbate social disparities or marginalize vulnerable groups. Their goal is to advocate for inclusive AI development and usage while protecting human rights and promoting societal benefit.\n",
      "-----\n"
     ]
    }
   ],
   "source": [
    "# Continue executing the graph workflow to process any remaining steps\n",
    "for event in graph.stream(None, thread, stream_mode=\"values\"):\n",
    "    \n",
    "    # Retrieve the updated list of analysts from the event output\n",
    "    analysts = event.get('analysts', '')\n",
    "\n",
    "    # If analysts are available, print their details for review\n",
    "    if analysts:\n",
    "        for analyst in analysts:\n",
    "            print(f\"Name: {analyst.name}\")\n",
    "            print(f\"Affiliation: {analyst.affiliation}\")\n",
    "            print(f\"Role: {analyst.role}\")\n",
    "            print(f\"Description: {analyst.description}\")\n",
    "            print(\"-\" * 5)  # Separator for better readability"
   ]
  },
  {
   "cell_type": "code",
   "execution_count": 19,
   "id": "d255daf4-0efc-4a5b-98b8-4402413a7575",
   "metadata": {},
   "outputs": [
    {
     "data": {
      "text/plain": [
       "{'configurable': {'thread_id': '1',\n",
       "  'checkpoint_ns': '',\n",
       "  'checkpoint_id': '1f00c8b3-ebec-681c-8007-e75360ed5211'}}"
      ]
     },
     "execution_count": 19,
     "metadata": {},
     "output_type": "execute_result"
    }
   ],
   "source": [
    "further_feedack = None\n",
    "graph.update_state(thread, {\"human_analyst_feedback\": \n",
    "                            further_feedack}, as_node=\"human_feedback\")"
   ]
  },
  {
   "cell_type": "code",
   "execution_count": 20,
   "id": "f4341f3e-6e32-4c20-90c6-891368cf016f",
   "metadata": {},
   "outputs": [],
   "source": [
    "# Continue the graph execution to end\n",
    "for event in graph.stream(None, thread, stream_mode=\"updates\"):\n",
    "    print(\"--Node--\")\n",
    "    node_name = next(iter(event.keys()))\n",
    "    print(node_name)"
   ]
  },
  {
   "cell_type": "code",
   "execution_count": 21,
   "id": "c35067e6-bd0d-4aec-8317-954ae42a6898",
   "metadata": {},
   "outputs": [],
   "source": [
    "# Retrieve the final state of the AI workflow after persona generation\n",
    "# This state contains the latest version of the generated analysts, incorporating all refinements\n",
    "final_state = graph.get_state(thread)\n",
    "analysts = final_state.values.get('analysts')  # Extract the list of generated analyst personas"
   ]
  },
  {
   "cell_type": "code",
   "execution_count": 22,
   "id": "b12f1a18-74ce-4636-a86a-fc0e6414bd02",
   "metadata": {},
   "outputs": [
    {
     "data": {
      "text/plain": [
       "()"
      ]
     },
     "execution_count": 22,
     "metadata": {},
     "output_type": "execute_result"
    }
   ],
   "source": [
    "final_state.next"
   ]
  }
 ],
 "metadata": {
  "kernelspec": {
   "display_name": "Python 3 (ipykernel)",
   "language": "python",
   "name": "python3"
  },
  "language_info": {
   "codemirror_mode": {
    "name": "ipython",
    "version": 3
   },
   "file_extension": ".py",
   "mimetype": "text/x-python",
   "name": "python",
   "nbconvert_exporter": "python",
   "pygments_lexer": "ipython3",
   "version": "3.12.8"
  }
 },
 "nbformat": 4,
 "nbformat_minor": 5
}
